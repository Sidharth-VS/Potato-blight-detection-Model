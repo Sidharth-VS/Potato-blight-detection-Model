{
 "cells": [
  {
   "cell_type": "code",
   "execution_count": 34,
   "id": "0cca711d",
   "metadata": {},
   "outputs": [],
   "source": [
    "import torch\n",
    "from torchvision import datasets, transforms\n",
    "from torch.utils.data import random_split, DataLoader\n",
    "import torch.nn as nn\n",
    "import torch.nn.functional as F\n",
    "import numpy\n",
    "from torch.optim.lr_scheduler import ExponentialLR"
   ]
  },
  {
   "cell_type": "code",
   "execution_count": null,
   "id": "b1044ead",
   "metadata": {},
   "outputs": [],
   "source": [
    "transform = transforms.Compose([\n",
    "    transforms.ToTensor(),\n",
    "])"
   ]
  },
  {
   "cell_type": "code",
   "execution_count": 18,
   "id": "dc2579ef",
   "metadata": {},
   "outputs": [],
   "source": [
    "device = \"cuda\""
   ]
  },
  {
   "cell_type": "code",
   "execution_count": 14,
   "id": "929d5336",
   "metadata": {},
   "outputs": [],
   "source": [
    "dataset = datasets.ImageFolder(root='dataset', transform=transform)"
   ]
  },
  {
   "cell_type": "code",
   "execution_count": 15,
   "id": "3752ac55",
   "metadata": {},
   "outputs": [],
   "source": [
    "train_size = int(0.8 * len(dataset))\n",
    "test_size = int((len(dataset) - train_size)/2)\n",
    "valid_size = test_size+1\n",
    "\n",
    "train_ds, test_ds, validate_ds = random_split(dataset, [train_size, test_size, valid_size])"
   ]
  },
  {
   "cell_type": "code",
   "execution_count": 16,
   "id": "496a1b8f",
   "metadata": {},
   "outputs": [],
   "source": [
    "train_loader = DataLoader(train_ds, batch_size=32, shuffle=True)\n",
    "test_loader = DataLoader(test_ds, batch_size=32, shuffle=True)\n",
    "valid_loader = DataLoader(validate_ds, batch_size=32, shuffle=True)"
   ]
  },
  {
   "cell_type": "code",
   "execution_count": 43,
   "id": "94ce7eac",
   "metadata": {},
   "outputs": [],
   "source": [
    "class BlightModel(nn.Module):\n",
    "    def __init__(self):\n",
    "        super(BlightModel, self).__init__()\n",
    "\n",
    "        self.conv1 = nn.Conv2d(3, 32, kernel_size=3, padding=1)\n",
    "        self.bn1 = nn.BatchNorm2d(32)\n",
    "        self.conv2 = nn.Conv2d(32, 64, kernel_size=3, padding=1)\n",
    "        self.bn2 = nn.BatchNorm2d(64)\n",
    "        self.conv3 = nn.Conv2d(64, 128, kernel_size=3, padding=1)\n",
    "        self.bn3 = nn.BatchNorm2d(128)\n",
    "        self.conv4 = nn.Conv2d(128, 256, kernel_size=3, padding=1)\n",
    "        self.bn4 = nn.BatchNorm2d(256)\n",
    "\n",
    "        self.pool = nn.MaxPool2d(kernel_size=2, stride=2)\n",
    "\n",
    "        self.fc1 = nn.Linear(256*16*16, 256)\n",
    "        self.fc2 = nn.Linear(256, 3) \n",
    "\n",
    "    def forward(self, x):\n",
    "        x = self.pool(F.relu(self.bn1(self.conv1(x))))\n",
    "        x = self.pool(F.relu(self.bn2(self.conv2(x))))\n",
    "        x = self.pool(F.relu(self.bn3(self.conv3(x))))\n",
    "        x = self.pool(F.relu(self.bn4(self.conv4(x))))\n",
    "\n",
    "        x = x.view(x.size(0), -1)\n",
    "        x = F.relu(self.fc1(x))\n",
    "        x = self.fc2(x)\n",
    "        return x    "
   ]
  },
  {
   "cell_type": "code",
   "execution_count": 44,
   "id": "a66c81ef",
   "metadata": {},
   "outputs": [
    {
     "data": {
      "text/plain": [
       "BlightModel(\n",
       "  (conv1): Conv2d(3, 32, kernel_size=(3, 3), stride=(1, 1), padding=(1, 1))\n",
       "  (bn1): BatchNorm2d(32, eps=1e-05, momentum=0.1, affine=True, track_running_stats=True)\n",
       "  (conv2): Conv2d(32, 64, kernel_size=(3, 3), stride=(1, 1), padding=(1, 1))\n",
       "  (bn2): BatchNorm2d(64, eps=1e-05, momentum=0.1, affine=True, track_running_stats=True)\n",
       "  (conv3): Conv2d(64, 128, kernel_size=(3, 3), stride=(1, 1), padding=(1, 1))\n",
       "  (bn3): BatchNorm2d(128, eps=1e-05, momentum=0.1, affine=True, track_running_stats=True)\n",
       "  (conv4): Conv2d(128, 256, kernel_size=(3, 3), stride=(1, 1), padding=(1, 1))\n",
       "  (bn4): BatchNorm2d(256, eps=1e-05, momentum=0.1, affine=True, track_running_stats=True)\n",
       "  (pool): MaxPool2d(kernel_size=2, stride=2, padding=0, dilation=1, ceil_mode=False)\n",
       "  (fc1): Linear(in_features=65536, out_features=256, bias=True)\n",
       "  (fc2): Linear(in_features=256, out_features=3, bias=True)\n",
       ")"
      ]
     },
     "execution_count": 44,
     "metadata": {},
     "output_type": "execute_result"
    }
   ],
   "source": [
    "model = BlightModel()\n",
    "model.to(device)"
   ]
  },
  {
   "cell_type": "code",
   "execution_count": 45,
   "id": "e8dbb84f",
   "metadata": {},
   "outputs": [],
   "source": [
    "loss_fn = nn.CrossEntropyLoss()\n",
    "optimizer = torch.optim.Adam(params=model.parameters(), lr=0.01)\n",
    "scheduler = ExponentialLR(optimizer, gamma=0.95)"
   ]
  },
  {
   "cell_type": "code",
   "execution_count": null,
   "id": "a5e24097",
   "metadata": {},
   "outputs": [
    {
     "name": "stdout",
     "output_type": "stream",
     "text": [
      "Epoch:0 Train Loss:37.44762754799039  Train Acc:77.91981406159209  Val loss:2.016429271016802  Val Accuracy:72.22222222222223\n",
      "Epoch:1 Train Loss:0.42545686686342515  Train Acc:90.70307960488088  Val loss:0.2273379479135786  Val Accuracy:92.12962962962963\n",
      "Epoch:2 Train Loss:0.14074075236675088  Train Acc:94.59616502033701  Val loss:0.13962397298642568  Val Accuracy:94.9074074074074\n",
      "Epoch:3 Train Loss:0.09779916010383102  Train Acc:96.22312608948286  Val loss:0.14157138179455483  Val Accuracy:93.98148148148148\n",
      "Epoch:4 Train Loss:0.10564123235504937  Train Acc:96.57176060429983  Val loss:0.14750679316265242  Val Accuracy:94.9074074074074\n",
      "Epoch:5 Train Loss:0.09365116525441408  Train Acc:96.51365485183032  Val loss:0.11037390120327473  Val Accuracy:95.37037037037037\n",
      "Epoch:6 Train Loss:0.06789163637613119  Train Acc:97.03660662405578  Val loss:0.07963257655501366  Val Accuracy:94.9074074074074\n",
      "Epoch:7 Train Loss:0.06981348004828086  Train Acc:97.55955839628123  Val loss:0.14817932061851025  Val Accuracy:94.44444444444444\n",
      "Epoch:8 Train Loss:0.09229766550372544  Train Acc:96.92039511911679  Val loss:0.19177169565643584  Val Accuracy:93.98148148148148\n",
      "Epoch:9 Train Loss:0.07083028041395462  Train Acc:97.44334689134224  Val loss:0.1440820854955486  Val Accuracy:95.37037037037037\n"
     ]
    }
   ],
   "source": [
    "epochs = 10\n",
    "\n",
    "for epoch in range(epochs):\n",
    "    model.train()\n",
    "    total_loss = 0\n",
    "    correct = 0\n",
    "    total = 0\n",
    "\n",
    "    for input, label in train_loader:\n",
    "        input = input.to(device)\n",
    "        label = label.to(device)\n",
    "\n",
    "        optimizer.zero_grad()\n",
    "        output = model(input)\n",
    "\n",
    "        loss = loss_fn(output, label)\n",
    "        loss.backward()\n",
    "        optimizer.step()\n",
    "        total_loss += loss.item()\n",
    "\n",
    "        _, pred = torch.max(output, 1)\n",
    "        total += label.size(0)\n",
    "        correct += (pred==label).sum().item()\n",
    "\n",
    "    train_loss = total_loss/len(train_loader)\n",
    "    train_accuracy = 100*correct/total\n",
    "\n",
    "    val_loss = 0\n",
    "    val_correct = 0\n",
    "    val_total = 0\n",
    "\n",
    "    with torch.no_grad():\n",
    "        for input, label in valid_loader:\n",
    "            input = input.to(device)\n",
    "            label = label.to(device)\n",
    "\n",
    "            output = model(input)\n",
    "            loss = loss_fn(output, label)\n",
    "            val_loss += loss.item()\n",
    "\n",
    "            _, pred = torch.max(output, 1)\n",
    "            val_total += label.size(0)\n",
    "            val_correct += (pred==label).sum().item()\n",
    "\n",
    "    val_loss = val_loss/len(valid_loader)\n",
    "    val_accuracy = 100*val_correct/val_total\n",
    "\n",
    "    print(f\"Epoch:{epoch} Train Loss:{train_loss}  Train Acc:{train_accuracy}  Val loss:{val_loss}  Val Accuracy:{val_accuracy}\")"
   ]
  },
  {
   "cell_type": "code",
   "execution_count": 48,
   "id": "c8d447ea",
   "metadata": {},
   "outputs": [
    {
     "name": "stdout",
     "output_type": "stream",
     "text": [
      "Test Loss: 0.19052207150629588  Test Accuracy: 93.95348837209302\n"
     ]
    }
   ],
   "source": [
    "with torch.inference_mode():\n",
    "    test_loss = 0\n",
    "    test_correct = 0\n",
    "    test_total = 0\n",
    "\n",
    "    for input, label in test_loader:\n",
    "        input = input.to(device)\n",
    "        label = label.to(device)\n",
    "\n",
    "        output = model(input)\n",
    "        loss = loss_fn(output, label)\n",
    "        test_loss += loss.item()\n",
    "\n",
    "        _, pred = torch.max(output, 1)\n",
    "        test_total += label.size(0)\n",
    "        test_correct += (pred==label).sum().item()\n",
    "\n",
    "    test_loss = test_loss/len(valid_loader)\n",
    "    test_accuracy = 100*test_correct/test_total\n",
    "\n",
    "    print(f\"Test Loss: {test_loss}  Test Accuracy: {test_accuracy}\")"
   ]
  },
  {
   "cell_type": "code",
   "execution_count": 49,
   "id": "0d0c95ad",
   "metadata": {},
   "outputs": [],
   "source": [
    "torch.save(model.state_dict(), \"Blight_model.pth\")"
   ]
  }
 ],
 "metadata": {
  "kernelspec": {
   "display_name": "Python 3",
   "language": "python",
   "name": "python3"
  },
  "language_info": {
   "codemirror_mode": {
    "name": "ipython",
    "version": 3
   },
   "file_extension": ".py",
   "mimetype": "text/x-python",
   "name": "python",
   "nbconvert_exporter": "python",
   "pygments_lexer": "ipython3",
   "version": "3.11.4"
  }
 },
 "nbformat": 4,
 "nbformat_minor": 5
}
